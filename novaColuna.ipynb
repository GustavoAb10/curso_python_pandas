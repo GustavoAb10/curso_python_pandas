{
 "cells": [
  {
   "cell_type": "code",
   "execution_count": 1,
   "metadata": {},
   "outputs": [],
   "source": [
    "import pandas as pd\n",
    "import numpy as np"
   ]
  },
  {
   "cell_type": "code",
   "execution_count": 2,
   "metadata": {},
   "outputs": [],
   "source": [
    "datas = pd.date_range('20210521',freq='D',periods=60)"
   ]
  },
  {
   "cell_type": "code",
   "execution_count": 4,
   "metadata": {},
   "outputs": [],
   "source": [
    "df = pd.DataFrame(np.random.randn(60,5), index= datas, columns= list(\"ABCDE\"))"
   ]
  },
  {
   "cell_type": "code",
   "execution_count": 6,
   "metadata": {},
   "outputs": [],
   "source": [
    "df['F'] = range(60)"
   ]
  },
  {
   "cell_type": "code",
   "execution_count": 7,
   "metadata": {},
   "outputs": [],
   "source": [
    "df['produto'] = df['A']*df['B']"
   ]
  },
  {
   "cell_type": "code",
   "execution_count": 10,
   "metadata": {},
   "outputs": [
    {
     "data": {
      "text/plain": "DatetimeIndex(['2021-05-21', '2021-05-22', '2021-05-23', '2021-05-24',\n               '2021-05-25', '2021-05-26', '2021-05-27', '2021-05-28',\n               '2021-05-29', '2021-05-30', '2021-05-31', '2021-06-01',\n               '2021-06-02', '2021-06-03', '2021-06-04', '2021-06-05',\n               '2021-06-06', '2021-06-07', '2021-06-08', '2021-06-09',\n               '2021-06-10', '2021-06-11', '2021-06-12', '2021-06-13',\n               '2021-06-14', '2021-06-15', '2021-06-16', '2021-06-17',\n               '2021-06-18', '2021-06-19', '2021-06-20', '2021-06-21',\n               '2021-06-22', '2021-06-23', '2021-06-24', '2021-06-25',\n               '2021-06-26', '2021-06-27', '2021-06-28', '2021-06-29',\n               '2021-06-30', '2021-07-01', '2021-07-02', '2021-07-03',\n               '2021-07-04', '2021-07-05', '2021-07-06', '2021-07-07',\n               '2021-07-08', '2021-07-09', '2021-07-10', '2021-07-11',\n               '2021-07-12', '2021-07-13', '2021-07-14', '2021-07-15',\n               '2021-07-16', '2021-07-17', '2021-07-18', '2021-07-19'],\n              dtype='datetime64[ns]', freq='D')"
     },
     "execution_count": 10,
     "metadata": {},
     "output_type": "execute_result"
    }
   ],
   "source": [
    "df.index"
   ]
  }
 ],
 "metadata": {
  "kernelspec": {
   "display_name": "Python 3 (ipykernel)",
   "name": "python3"
  },
  "language_info": {
   "codemirror_mode": {
    "name": "ipython",
    "version": 3
   },
   "file_extension": ".py",
   "mimetype": "text/x-python",
   "name": "python",
   "nbconvert_exporter": "python",
   "pygments_lexer": "ipython3",
   "version": "3.8.10"
  },
  "orig_nbformat": 2
 },
 "nbformat": 4,
 "nbformat_minor": 2
}