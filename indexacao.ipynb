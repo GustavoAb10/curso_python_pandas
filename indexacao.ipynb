{
 "cells": [
  {
   "cell_type": "code",
   "execution_count": 3,
   "source": [
    "v = [1,2,5,6]\n",
    "v[1]"
   ],
   "outputs": [
    {
     "output_type": "execute_result",
     "data": {
      "text/plain": [
       "2"
      ]
     },
     "metadata": {},
     "execution_count": 3
    }
   ],
   "metadata": {}
  },
  {
   "cell_type": "code",
   "execution_count": 4,
   "source": [
    "import pandas as pd\n",
    "\n",
    "arrays = [[1,1,2,2],['blue','red','blue','red']]"
   ],
   "outputs": [],
   "metadata": {}
  },
  {
   "cell_type": "code",
   "execution_count": 6,
   "source": [
    "pd.MultiIndex.from_arrays(arrays,names=('numbers','colors'))"
   ],
   "outputs": [
    {
     "output_type": "execute_result",
     "data": {
      "text/plain": [
       "MultiIndex([(1, 'blue'),\n",
       "            (1,  'red'),\n",
       "            (2, 'blue'),\n",
       "            (2,  'red')],\n",
       "           names=['numbers', 'colors'])"
      ]
     },
     "metadata": {},
     "execution_count": 6
    }
   ],
   "metadata": {}
  },
  {
   "cell_type": "code",
   "execution_count": 9,
   "source": [
    "numbers = [0,1,2]\n",
    "colors = ['green', 'red']\n",
    "pd.MultiIndex.from_product([numbers,colors],names=('number','color'))"
   ],
   "outputs": [
    {
     "output_type": "execute_result",
     "data": {
      "text/plain": [
       "MultiIndex([(0, 'green'),\n",
       "            (0,   'red'),\n",
       "            (1, 'green'),\n",
       "            (1,   'red'),\n",
       "            (2, 'green'),\n",
       "            (2,   'red')],\n",
       "           names=['number', 'color'])"
      ]
     },
     "metadata": {},
     "execution_count": 9
    }
   ],
   "metadata": {}
  }
 ],
 "metadata": {
  "orig_nbformat": 4,
  "language_info": {
   "name": "python"
  }
 },
 "nbformat": 4,
 "nbformat_minor": 2
}