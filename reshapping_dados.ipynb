{
 "cells": [
  {
   "cell_type": "code",
   "execution_count": 1,
   "source": [
    "import pandas as pd\n",
    "import numpy as np"
   ],
   "outputs": [],
   "metadata": {}
  },
  {
   "cell_type": "code",
   "execution_count": 4,
   "source": [
    "datas = pd.date_range('20210101',periods=6)\n",
    "\n",
    "df = pd.DataFrame(np.random.randn(6,4),index=datas, columns=['VAR_A', 'VAR_B', 'VAR_C', 'VAR_D'])\n",
    "df"
   ],
   "outputs": [
    {
     "output_type": "execute_result",
     "data": {
      "text/plain": [
       "               VAR_A     VAR_B     VAR_C     VAR_D\n",
       "2021-01-01 -0.181082  1.160076  1.851111  0.123508\n",
       "2021-01-02 -0.341774  0.207063 -0.262938  0.779615\n",
       "2021-01-03 -0.758438 -0.234051 -0.461538  0.644414\n",
       "2021-01-04 -0.033895 -1.841804 -0.713514  0.418642\n",
       "2021-01-05 -0.079732 -0.825240  0.106678  0.176222\n",
       "2021-01-06 -0.092236 -0.167255  1.112072  0.575803"
      ],
      "text/html": [
       "<div>\n",
       "<style scoped>\n",
       "    .dataframe tbody tr th:only-of-type {\n",
       "        vertical-align: middle;\n",
       "    }\n",
       "\n",
       "    .dataframe tbody tr th {\n",
       "        vertical-align: top;\n",
       "    }\n",
       "\n",
       "    .dataframe thead th {\n",
       "        text-align: right;\n",
       "    }\n",
       "</style>\n",
       "<table border=\"1\" class=\"dataframe\">\n",
       "  <thead>\n",
       "    <tr style=\"text-align: right;\">\n",
       "      <th></th>\n",
       "      <th>VAR_A</th>\n",
       "      <th>VAR_B</th>\n",
       "      <th>VAR_C</th>\n",
       "      <th>VAR_D</th>\n",
       "    </tr>\n",
       "  </thead>\n",
       "  <tbody>\n",
       "    <tr>\n",
       "      <th>2021-01-01</th>\n",
       "      <td>-0.181082</td>\n",
       "      <td>1.160076</td>\n",
       "      <td>1.851111</td>\n",
       "      <td>0.123508</td>\n",
       "    </tr>\n",
       "    <tr>\n",
       "      <th>2021-01-02</th>\n",
       "      <td>-0.341774</td>\n",
       "      <td>0.207063</td>\n",
       "      <td>-0.262938</td>\n",
       "      <td>0.779615</td>\n",
       "    </tr>\n",
       "    <tr>\n",
       "      <th>2021-01-03</th>\n",
       "      <td>-0.758438</td>\n",
       "      <td>-0.234051</td>\n",
       "      <td>-0.461538</td>\n",
       "      <td>0.644414</td>\n",
       "    </tr>\n",
       "    <tr>\n",
       "      <th>2021-01-04</th>\n",
       "      <td>-0.033895</td>\n",
       "      <td>-1.841804</td>\n",
       "      <td>-0.713514</td>\n",
       "      <td>0.418642</td>\n",
       "    </tr>\n",
       "    <tr>\n",
       "      <th>2021-01-05</th>\n",
       "      <td>-0.079732</td>\n",
       "      <td>-0.825240</td>\n",
       "      <td>0.106678</td>\n",
       "      <td>0.176222</td>\n",
       "    </tr>\n",
       "    <tr>\n",
       "      <th>2021-01-06</th>\n",
       "      <td>-0.092236</td>\n",
       "      <td>-0.167255</td>\n",
       "      <td>1.112072</td>\n",
       "      <td>0.575803</td>\n",
       "    </tr>\n",
       "  </tbody>\n",
       "</table>\n",
       "</div>"
      ]
     },
     "metadata": {},
     "execution_count": 4
    }
   ],
   "metadata": {}
  },
  {
   "cell_type": "code",
   "execution_count": 5,
   "source": [
    "dft = df.T"
   ],
   "outputs": [],
   "metadata": {}
  },
  {
   "cell_type": "code",
   "execution_count": 7,
   "source": [
    "df.shape\n"
   ],
   "outputs": [
    {
     "output_type": "execute_result",
     "data": {
      "text/plain": [
       "(6, 4)"
      ]
     },
     "metadata": {},
     "execution_count": 7
    }
   ],
   "metadata": {}
  },
  {
   "cell_type": "code",
   "execution_count": 8,
   "source": [
    "dft.shape"
   ],
   "outputs": [
    {
     "output_type": "execute_result",
     "data": {
      "text/plain": [
       "(4, 6)"
      ]
     },
     "metadata": {},
     "execution_count": 8
    }
   ],
   "metadata": {}
  },
  {
   "cell_type": "code",
   "execution_count": 10,
   "source": [
    "dft.values"
   ],
   "outputs": [
    {
     "output_type": "execute_result",
     "data": {
      "text/plain": [
       "array([[-0.18108189, -0.34177363, -0.75843789, -0.03389503, -0.07973161,\n",
       "        -0.09223609],\n",
       "       [ 1.16007607,  0.20706269, -0.23405069, -1.84180446, -0.82524049,\n",
       "        -0.16725484],\n",
       "       [ 1.8511111 , -0.26293843, -0.46153824, -0.71351373,  0.1066778 ,\n",
       "         1.1120723 ],\n",
       "       [ 0.12350767,  0.77961496,  0.64441351,  0.41864176,  0.17622196,\n",
       "         0.57580291]])"
      ]
     },
     "metadata": {},
     "execution_count": 10
    }
   ],
   "metadata": {}
  },
  {
   "cell_type": "code",
   "execution_count": 11,
   "source": [
    "v = dft.values\n",
    "v"
   ],
   "outputs": [
    {
     "output_type": "execute_result",
     "data": {
      "text/plain": [
       "array([[-0.18108189, -0.34177363, -0.75843789, -0.03389503, -0.07973161,\n",
       "        -0.09223609],\n",
       "       [ 1.16007607,  0.20706269, -0.23405069, -1.84180446, -0.82524049,\n",
       "        -0.16725484],\n",
       "       [ 1.8511111 , -0.26293843, -0.46153824, -0.71351373,  0.1066778 ,\n",
       "         1.1120723 ],\n",
       "       [ 0.12350767,  0.77961496,  0.64441351,  0.41864176,  0.17622196,\n",
       "         0.57580291]])"
      ]
     },
     "metadata": {},
     "execution_count": 11
    }
   ],
   "metadata": {}
  },
  {
   "cell_type": "code",
   "execution_count": 12,
   "source": [
    "v.reshape((2,12))"
   ],
   "outputs": [
    {
     "output_type": "execute_result",
     "data": {
      "text/plain": [
       "array([[-0.18108189, -0.34177363, -0.75843789, -0.03389503, -0.07973161,\n",
       "        -0.09223609,  1.16007607,  0.20706269, -0.23405069, -1.84180446,\n",
       "        -0.82524049, -0.16725484],\n",
       "       [ 1.8511111 , -0.26293843, -0.46153824, -0.71351373,  0.1066778 ,\n",
       "         1.1120723 ,  0.12350767,  0.77961496,  0.64441351,  0.41864176,\n",
       "         0.17622196,  0.57580291]])"
      ]
     },
     "metadata": {},
     "execution_count": 12
    }
   ],
   "metadata": {}
  }
 ],
 "metadata": {
  "orig_nbformat": 4,
  "language_info": {
   "name": "python"
  }
 },
 "nbformat": 4,
 "nbformat_minor": 2
}